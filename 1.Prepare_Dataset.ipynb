{
 "cells": [
  {
   "attachments": {},
   "cell_type": "markdown",
   "metadata": {},
   "source": [
    "# Import Required Libraries"
   ]
  },
  {
   "cell_type": "code",
   "execution_count": null,
   "metadata": {},
   "outputs": [],
   "source": [
    "import mne\n",
    "import pandas as pd\n",
    "from glob2 import glob"
   ]
  },
  {
   "attachments": {},
   "cell_type": "markdown",
   "metadata": {},
   "source": [
    "## Loading normal (non-epilepsy) & abnormal(epilepsy) EDF files from NMT DATASET"
   ]
  },
  {
   "cell_type": "code",
   "execution_count": null,
   "metadata": {},
   "outputs": [],
   "source": [
    "normal_edf_files = glob('Dataset/normal/train/*.edf')\n",
    "abnormal_edf_files = glob('Dataset/abnormal/train/*.edf')"
   ]
  },
  {
   "attachments": {},
   "cell_type": "markdown",
   "metadata": {},
   "source": [
    "# Extract normal, abnormal patient IDs and combine them for All patients ID list"
   ]
  },
  {
   "cell_type": "code",
   "execution_count": null,
   "metadata": {},
   "outputs": [],
   "source": [
    "normal_patient_id = list(set([x.split('/')[-1].split('.')[0] for x in normal_edf_files]))\n",
    "abnormal_patient_id = list(set([x.split('/')[-1].split('.')[0] for x in abnormal_edf_files]))\n",
    "all_patient_id = abnormal_patient_id + normal_patient_id"
   ]
  },
  {
   "attachments": {},
   "cell_type": "markdown",
   "metadata": {},
   "source": [
    "# Sampling frequency is 200.0 hz according to NMT dataset. Window length of 10 second is chosen"
   ]
  },
  {
   "cell_type": "code",
   "execution_count": 1,
   "metadata": {},
   "outputs": [],
   "source": [
    "SAMPLING_FREQ = 200.0\n",
    "WINDOW_LENGTH_SECONDS = 20.0\n",
    "WINDOW_LENGTH_SAMPLES = int(WINDOW_LENGTH_SECONDS * SAMPLING_FREQ)\n",
    "\n",
    "dataset_index_rows = []\n"
   ]
  },
  {
   "attachments": {},
   "cell_type": "markdown",
   "metadata": {},
   "source": [
    "# Information from the EDF files are extracted, labaled and saved in a dictionary"
   ]
  },
  {
   "cell_type": "code",
   "execution_count": null,
   "metadata": {},
   "outputs": [],
   "source": [
    "for idx, patient in enumerate(all_patient_id):\n",
    "    print(f\"{patient}: {idx+1}/{len(all_patient_id)}\\n\\n\")\n",
    "    if patient in normal_patient_id:\n",
    "        label = 'no_epilepsy'\n",
    "        print(label)\n",
    "        raw_file_path = f'Dataset/normal/{patient}.edf'\n",
    "        print(raw_file_path)\n",
    "        raw_data = mne.io.read_raw_edf(\n",
    "            raw_file_path, verbose=False, preload=False)\n",
    "    elif patient in abnormal_patient_id:\n",
    "        label = 'epilespy'\n",
    "        print(label)\n",
    "        raw_file_path = f'Dataset/abnormal/{patient}.edf'\n",
    "        print(raw_file_path)\n",
    "        raw_data = mne.io.read_raw_edf(\n",
    "            raw_file_path, verbose=False, preload=False)\n",
    "\n",
    "    for start_sample_index in range(0, int(int(raw_data.times[-1]) * SAMPLING_FREQ), WINDOW_LENGTH_SAMPLES):\n",
    "        end_sample_index = start_sample_index + (WINDOW_LENGTH_SAMPLES - 1)\n",
    "\n",
    "        # ensure 10 seconds are available in window and recording does not end\n",
    "        if end_sample_index > raw_data.n_times:\n",
    "            break\n",
    "\n",
    "    row = {}\n",
    "    row[\"patient_id\"] = patient\n",
    "    row[\"raw_file_path\"] = raw_file_path\n",
    "    row[\"record_length_seconds\"] = raw_data.times[-1]\n",
    "    # this is the desired SFREQ using which sample indices are derived.\n",
    "    # CAUTION - this is not the original SFREQ at which the data is recorded.\n",
    "    row[\"sampling_freq\"] = SAMPLING_FREQ\n",
    "    row[\"channel_config\"] = '02_tcp_le'\n",
    "    row[\"start_sample_index\"] = start_sample_index\n",
    "    row[\"end_sample_index\"] = end_sample_index\n",
    "    row[\"text_label\"] = label\n",
    "    row[\"numeric_label\"] = 0 if label == \"no_epilepsy\" else 1\n",
    "    dataset_index_rows.append(row)\n"
   ]
  },
  {
   "attachments": {},
   "cell_type": "markdown",
   "metadata": {},
   "source": [
    "# Patient information is saved as `nmt_data.csv` under data folder"
   ]
  },
  {
   "cell_type": "code",
   "execution_count": null,
   "metadata": {},
   "outputs": [],
   "source": [
    "df = pd.DataFrame(dataset_index_rows, columns=[\"patient_id\",\n",
    "                                               \"raw_file_path\",\n",
    "                                               \"record_length_seconds\",\n",
    "                                               \"sampling_freq\",\n",
    "                                               \"channel_config\",\n",
    "                                               \"start_sample_index\",\n",
    "                                               \"end_sample_index\",\n",
    "                                               \"text_label\",\n",
    "                                               \"numeric_label\"])\n",
    "df.to_csv(\"nmt_data.csv\", index=False)"
   ]
  }
 ],
 "metadata": {
  "kernelspec": {
   "display_name": "Python 3",
   "language": "python",
   "name": "python3"
  },
  "language_info": {
   "codemirror_mode": {
    "name": "ipython",
    "version": 3
   },
   "file_extension": ".py",
   "mimetype": "text/x-python",
   "name": "python",
   "nbconvert_exporter": "python",
   "pygments_lexer": "ipython3",
   "version": "3.10.8"
  },
  "orig_nbformat": 4
 },
 "nbformat": 4,
 "nbformat_minor": 2
}
