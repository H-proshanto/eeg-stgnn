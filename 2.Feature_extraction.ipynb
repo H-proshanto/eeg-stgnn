{
 "cells": [
  {
   "cell_type": "code",
   "execution_count": null,
   "metadata": {},
   "outputs": [],
   "source": [
    "import mne\n",
    "import numpy as np\n",
    "import pandas as pd\n",
    "from collections import OrderedDict\n",
    "from mne.time_frequency import psd_array_welch"
   ]
  },
  {
   "attachments": {},
   "cell_type": "markdown",
   "metadata": {},
   "source": [
    "# Sensor standardization function according to channel, highpass and noise removal function. Unused and kept for future application."
   ]
  },
  {
   "cell_type": "code",
   "execution_count": null,
   "metadata": {},
   "outputs": [],
   "source": [
    "def standardize_sensors(raw_data):\n",
    "\tmontage_sensor_set = ['FP1',\n",
    "                       'FP2',\n",
    "                       'F3',\n",
    "                       'F4',\n",
    "                       'C3',\n",
    "                       'C4',\n",
    "                       'P3',\n",
    "                       'P4',\n",
    "                       'O1',\n",
    "                       'O2',\n",
    "                       'F7',\n",
    "                       'F8',\n",
    "                       'T3',\n",
    "                       'T4',\n",
    "                       'T5',\n",
    "                       'T6',\n",
    "                       'FZ',\n",
    "                       'PZ',\n",
    "                       'CZ',\n",
    "                       'A1',\n",
    "                       'A2']\n",
    "\t\n",
    "\traw_data = raw_data.pick_channels(montage_sensor_set, ordered=True)\n",
    "\n",
    "\treturn raw_data\n",
    "\n",
    "\n",
    "def highpass(raw_data, cutoff=1.0):\n",
    "\tmne.filter.filter_data(raw_data, sfreq=200.0, l_freq=cutoff, h_freq=None)\n",
    "\treturn raw_data\n",
    "\n",
    "\n",
    "def remove_line_noise(raw_data, ac_freqs=np.arange(50, 101, 50)):\n",
    "\tmne.filter.notch_filter(raw_data, freqs=ac_freqs, picks=\"eeg\", verbose=False)\n",
    "\treturn raw_data\n"
   ]
  },
  {
   "attachments": {},
   "cell_type": "markdown",
   "metadata": {},
   "source": [
    "# PSD extraction based on standard brain rhythm bands"
   ]
  },
  {
   "cell_type": "code",
   "execution_count": null,
   "metadata": {},
   "outputs": [],
   "source": [
    "def get_brain_waves_power(psd_welch, freqs):\n",
    "\n",
    "\tbrain_waves = OrderedDict({\n",
    "\t\t\"delta\": [1.0, 4.0],\n",
    "\t\t\"theta\": [4.0, 7.5],\n",
    "\t\t\"alpha\": [7.5, 13.0],\n",
    "\t\t\"lower_beta\": [13.0, 16.0],\n",
    "\t\t\"higher_beta\": [16.0, 30.0],\n",
    "\t\t\"gamma\": [30.0, 40.0]\n",
    "\t})\n",
    "\n",
    "\t# create new variable you want to \"fill\": n_brain_wave_bands\n",
    "\tband_powers = np.zeros((psd_welch.shape[0], 6))\n",
    "\n",
    "\tfor wave_idx, wave in enumerate(brain_waves.keys()):\n",
    "\t\t# identify freq indices of the wave band\n",
    "\t\tif wave_idx == 0:\n",
    "\t\t\tband_freqs_idx = np.argwhere((freqs <= brain_waves[wave][1]))\n",
    "\t\telse:\n",
    "\t\t\tband_freqs_idx = np.argwhere(\n",
    "\t\t\t\t(freqs >= brain_waves[wave][0]) & (freqs <= brain_waves[wave][1]))\n",
    "\n",
    "\t\t# extract the psd values for those freq indices\n",
    "\t\tband_psd = psd_welch[:, band_freqs_idx.ravel()]\n",
    "\n",
    "\t\t# sum the band psd data to get total band power\n",
    "\t\ttotal_band_power = np.sum(band_psd, axis=1)\n",
    "\n",
    "\t\t# set power in band for all sensors\n",
    "\t\tband_powers[:, wave_idx] = total_band_power\n",
    "\n",
    "\treturn band_powers\n"
   ]
  },
  {
   "attachments": {},
   "cell_type": "markdown",
   "metadata": {},
   "source": [
    "# Loading the patient data file"
   ]
  },
  {
   "cell_type": "code",
   "execution_count": null,
   "metadata": {},
   "outputs": [],
   "source": [
    "index_df = pd.read_csv(\"data/nmt_data.csv\")\n",
    "\n",
    "grouped_df = index_df.groupby(\"raw_file_path\")\n",
    "\n",
    "num_channels = 21\n",
    "power_bands = 6\n",
    "\n",
    "feature_matrix = np.zeros((index_df.shape[0], num_channels*power_bands))\n",
    "\n",
    "SAMPLING_FREQ = 200.0"
   ]
  },
  {
   "attachments": {},
   "cell_type": "markdown",
   "metadata": {},
   "source": [
    "# Extract Feautures from raw edf data & store them in data folder as `features.npy` and also labels are stored as `labels.npy`"
   ]
  },
  {
   "cell_type": "code",
   "execution_count": null,
   "metadata": {},
   "outputs": [],
   "source": [
    "for raw_file_path, group_df in grouped_df:\n",
    "    raw_data = mne.io.read_raw_edf(raw_file_path, verbose=False, preload=True)\n",
    "    raw_data = standardize_sensors(raw_data)\n",
    "    print(raw_file_path)\n",
    "\n",
    "    for window_idx in group_df.index.tolist():\n",
    "        start_sample = group_df.loc[window_idx]['start_sample_index']\n",
    "        stop_sample = group_df.loc[window_idx]['end_sample_index']\n",
    "        window_data = raw_data.get_data(start=start_sample, stop=stop_sample)\n",
    "\n",
    "        transf_window_data = np.expand_dims(window_data, axis=0)\n",
    "\n",
    "        psd_welch, freqs = psd_array_welch(window_data, sfreq=SAMPLING_FREQ, fmax=50.0, n_per_seg=150,\n",
    "                                           average='mean', verbose=False)\n",
    "        psd_welch = 10 * np.log10(psd_welch)\n",
    "        band_powers = get_brain_waves_power(psd_welch, freqs)\n",
    "\n",
    "        features = band_powers.flatten()\n",
    "        feature_matrix[window_idx, :] = features\n",
    "\n",
    "np.save(\"data/features.npy\", feature_matrix)\n",
    "np.save(\"data/labels.npy\", index_df[\"text_label\"].to_numpy())"
   ]
  }
 ],
 "metadata": {
  "language_info": {
   "name": "python"
  },
  "orig_nbformat": 4
 },
 "nbformat": 4,
 "nbformat_minor": 2
}
